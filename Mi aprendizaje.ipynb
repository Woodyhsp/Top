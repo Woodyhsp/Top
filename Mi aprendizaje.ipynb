{
  "nbformat": 4,
  "nbformat_minor": 0,
  "metadata": {
    "colab": {
      "provenance": [],
      "toc_visible": true,
      "authorship_tag": "ABX9TyOLgcY5q1WxXLzZrZu99EiH",
      "include_colab_link": true
    },
    "kernelspec": {
      "name": "python3",
      "display_name": "Python 3"
    },
    "language_info": {
      "name": "python"
    }
  },
  "cells": [
    {
      "cell_type": "markdown",
      "metadata": {
        "id": "view-in-github",
        "colab_type": "text"
      },
      "source": [
        "<a href=\"https://colab.research.google.com/github/Woodyhsp/Top/blob/main/Mi%20aprendizaje.ipynb\" target=\"_parent\"><img src=\"https://colab.research.google.com/assets/colab-badge.svg\" alt=\"Open In Colab\"/></a>"
      ]
    },
    {
      "cell_type": "markdown",
      "source": [
        "\n",
        "# **Input y funciones**"
      ],
      "metadata": {
        "id": "cGtsz6j2IMLT"
      }
    },
    {
      "cell_type": "markdown",
      "source": [
        "**Input y funciones**\n",
        "\n",
        "Input:Funcion para ingresar algun dato no se guarda a menos de que declares una funcion antes eje:Valor=input\n",
        "\n",
        "Funcion: colocas \"def\" nombras tu funcion (dato a recivir):\n",
        "(codigo a generar en dicha funcion)\n",
        "return(variable que *arroja* la funcion)"
      ],
      "metadata": {
        "id": "wJP-eCxsHCOb"
      }
    },
    {
      "cell_type": "code",
      "execution_count": null,
      "metadata": {
        "colab": {
          "base_uri": "https://localhost:8080/"
        },
        "id": "sGw11A2-H248",
        "outputId": "ee197069-af32-49a2-f823-a8eb15e2fba3"
      },
      "outputs": [
        {
          "output_type": "stream",
          "name": "stdout",
          "text": [
            "dime tu edad: 22\n",
            "Tu edad es: 22\n",
            "la mitad de tu edad es: 11\n",
            "la doble de tu edad es: 44\n"
          ]
        }
      ],
      "source": [
        "Edad=int(input(\"dime tu edad: \"))\n",
        "\n",
        "print(\"Tu edad es:\",Edad)\n",
        "\n",
        "print(\"la mitad de tu edad es:\",Edad//2)\n",
        "\n",
        "print(\"la doble de tu edad es:\",Edad*2)"
      ]
    },
    {
      "cell_type": "code",
      "source": [
        "#Creacion de una funcion y directris\n",
        "def DATOSPER (Nacimiento,Actualidad):\n",
        "  Edad=Actualidad-Nacimiento\n",
        "\n",
        "  return Edad"
      ],
      "metadata": {
        "id": "OJfTdQJWT8OM"
      },
      "execution_count": null,
      "outputs": []
    },
    {
      "cell_type": "code",
      "source": [
        "#Integracion de datos y uso de la funcion creado\n",
        "\n",
        "try:\n",
        "    A=int(input(\"dime tu año de nacimiento: \"))\n",
        "except ValueError:\n",
        " print(\"Debes ingresar un numero\")\n",
        "\n",
        "try:\n",
        "   B=int(input(\"dime el año actual: \"))\n",
        "except ValueError:\n",
        " print(\"Debes ingresar un numero\")\n",
        "\n",
        "print(\"Tu edad es:\",DATOSPER(A,B))\n",
        "\n"
      ],
      "metadata": {
        "colab": {
          "base_uri": "https://localhost:8080/"
        },
        "id": "mYdiJEWgVh60",
        "outputId": "51668cda-f6af-4dfa-8113-6814e306e201"
      },
      "execution_count": null,
      "outputs": [
        {
          "output_type": "stream",
          "name": "stdout",
          "text": [
            "dime tu año de nacimiento: 2000\n",
            "dime el año actual: 2025\n",
            "Tu edad es: 25\n"
          ]
        }
      ]
    },
    {
      "cell_type": "code",
      "source": [
        "#ejercicio 1\n",
        "\n",
        "#Crear funcion que reciba \"A\" y arroje el print\n",
        "\n",
        "def Saludo (A):\n",
        "\n",
        "  final=print(\"Hola\",(A))\n",
        "\n",
        "  return final\n",
        "\n",
        "  #Solicita a el usuaruio el dato\n",
        "\n",
        "A=(input(\"dime tu nombre: \"))\n",
        "\n",
        "Saludo(A)\n",
        "\n",
        "\n"
      ],
      "metadata": {
        "colab": {
          "base_uri": "https://localhost:8080/"
        },
        "id": "xYCUbJozX1_P",
        "outputId": "e4de1db1-8dbc-4c42-ee8d-94846c6971d6"
      },
      "execution_count": null,
      "outputs": [
        {
          "output_type": "stream",
          "name": "stdout",
          "text": [
            "dime tu nombre: 68\n",
            "Hola 68\n"
          ]
        }
      ]
    },
    {
      "cell_type": "code",
      "source": [
        "#Ejercicio dos\n",
        "\n",
        "#generar operacion de tipo de cambio\n",
        "\n",
        "def DolaraPesoMX (Dolar):\n",
        "\n",
        "  Pesos=18.99*Dolar\n",
        "\n",
        "  return Pesos"
      ],
      "metadata": {
        "id": "YRw8qe5rZbj9"
      },
      "execution_count": null,
      "outputs": []
    },
    {
      "cell_type": "code",
      "source": [
        "#Solkictar numero datos al usuario y llamar a la funcion y hacerla flotante\n",
        "Dolar=input(\"Cuantos dolares tienes: \")\n",
        "\n",
        "print(\"Tienes\",DolaraPesoMX(float(Dolar)),\"pesos mexicanos\")\n"
      ],
      "metadata": {
        "colab": {
          "base_uri": "https://localhost:8080/"
        },
        "id": "5HDnFmoWf7i5",
        "outputId": "c7719660-0bfa-4857-8dc7-6c61ac365253"
      },
      "execution_count": null,
      "outputs": [
        {
          "output_type": "stream",
          "name": "stdout",
          "text": [
            "Cuantos dolares tienes: 1000\n",
            "Tienes 18990.0 pesos\n"
          ]
        }
      ]
    },
    {
      "cell_type": "markdown",
      "source": [
        "# Sección nueva"
      ],
      "metadata": {
        "id": "Iq8WN_edIfdt"
      }
    },
    {
      "cell_type": "code",
      "source": [],
      "metadata": {
        "id": "9XQKm11lIh87"
      },
      "execution_count": null,
      "outputs": []
    }
  ]
}